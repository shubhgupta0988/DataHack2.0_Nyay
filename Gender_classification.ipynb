{
  "cells": [
    {
      "cell_type": "markdown",
      "metadata": {
        "id": "view-in-github",
        "colab_type": "text"
      },
      "source": [
        "<a href=\"https://colab.research.google.com/github/Arshad-06/DataHack_2_Bust-A-Code/blob/master/Gender_classification.ipynb\" target=\"_parent\"><img src=\"https://colab.research.google.com/assets/colab-badge.svg\" alt=\"Open In Colab\"/></a>"
      ]
    },
    {
      "cell_type": "code",
      "execution_count": null,
      "metadata": {
        "id": "3-YWiS9KuZ62"
      },
      "outputs": [],
      "source": [
        "import numpy as np\n",
        "import pandas as pd\n",
        "dataset = pd.read_csv('Gender_Data.csv')w"
      ]
    },
    {
      "cell_type": "code",
      "execution_count": null,
      "metadata": {
        "id": "gA1E2ulPrfp-"
      },
      "outputs": [],
      "source": [
        "from tensorflow.keras import models\n",
        "from tensorflow.keras.models import Model\n",
        "from tensorflow.keras.models import load_model\n",
        "from keras.layers import Embedding\n",
        "from tensorflow.keras.layers import Dense, Dropout, Flatten, Input, LeakyReLU\n",
        "from tensorflow.keras.layers import BatchNormalization, Activation, Conv2D\n",
        "from tensorflow.keras.models import Sequential\n",
        "from tensorflow.keras.layers import Dense, Flatten, MaxPooling2D, Dense, Dropout\n",
        "from tensorflow.keras.layers import LSTM"
      ]
    },
    {
      "cell_type": "code",
      "execution_count": null,
      "metadata": {
        "colab": {
          "base_uri": "https://localhost:8080/",
          "height": 206
        },
        "id": "YGYQ1_W-xzsf",
        "outputId": "6f8f6e49-5faa-47fb-f1bf-a2f22e660625"
      },
      "outputs": [
        {
          "output_type": "execute_result",
          "data": {
            "text/plain": [
              "       Name  Gender\n",
              "0     Aaban       0\n",
              "1  Aabharan       0\n",
              "2    Aabhas       0\n",
              "3    Aabhat       0\n",
              "4   Aabheer       0"
            ],
            "text/html": [
              "\n",
              "  <div id=\"df-89993dde-85f9-49ce-8c64-89fb2c2c6db1\" class=\"colab-df-container\">\n",
              "    <div>\n",
              "<style scoped>\n",
              "    .dataframe tbody tr th:only-of-type {\n",
              "        vertical-align: middle;\n",
              "    }\n",
              "\n",
              "    .dataframe tbody tr th {\n",
              "        vertical-align: top;\n",
              "    }\n",
              "\n",
              "    .dataframe thead th {\n",
              "        text-align: right;\n",
              "    }\n",
              "</style>\n",
              "<table border=\"1\" class=\"dataframe\">\n",
              "  <thead>\n",
              "    <tr style=\"text-align: right;\">\n",
              "      <th></th>\n",
              "      <th>Name</th>\n",
              "      <th>Gender</th>\n",
              "    </tr>\n",
              "  </thead>\n",
              "  <tbody>\n",
              "    <tr>\n",
              "      <th>0</th>\n",
              "      <td>Aaban</td>\n",
              "      <td>0</td>\n",
              "    </tr>\n",
              "    <tr>\n",
              "      <th>1</th>\n",
              "      <td>Aabharan</td>\n",
              "      <td>0</td>\n",
              "    </tr>\n",
              "    <tr>\n",
              "      <th>2</th>\n",
              "      <td>Aabhas</td>\n",
              "      <td>0</td>\n",
              "    </tr>\n",
              "    <tr>\n",
              "      <th>3</th>\n",
              "      <td>Aabhat</td>\n",
              "      <td>0</td>\n",
              "    </tr>\n",
              "    <tr>\n",
              "      <th>4</th>\n",
              "      <td>Aabheer</td>\n",
              "      <td>0</td>\n",
              "    </tr>\n",
              "  </tbody>\n",
              "</table>\n",
              "</div>\n",
              "    <div class=\"colab-df-buttons\">\n",
              "\n",
              "  <div class=\"colab-df-container\">\n",
              "    <button class=\"colab-df-convert\" onclick=\"convertToInteractive('df-89993dde-85f9-49ce-8c64-89fb2c2c6db1')\"\n",
              "            title=\"Convert this dataframe to an interactive table.\"\n",
              "            style=\"display:none;\">\n",
              "\n",
              "  <svg xmlns=\"http://www.w3.org/2000/svg\" height=\"24px\" viewBox=\"0 -960 960 960\">\n",
              "    <path d=\"M120-120v-720h720v720H120Zm60-500h600v-160H180v160Zm220 220h160v-160H400v160Zm0 220h160v-160H400v160ZM180-400h160v-160H180v160Zm440 0h160v-160H620v160ZM180-180h160v-160H180v160Zm440 0h160v-160H620v160Z\"/>\n",
              "  </svg>\n",
              "    </button>\n",
              "\n",
              "  <style>\n",
              "    .colab-df-container {\n",
              "      display:flex;\n",
              "      gap: 12px;\n",
              "    }\n",
              "\n",
              "    .colab-df-convert {\n",
              "      background-color: #E8F0FE;\n",
              "      border: none;\n",
              "      border-radius: 50%;\n",
              "      cursor: pointer;\n",
              "      display: none;\n",
              "      fill: #1967D2;\n",
              "      height: 32px;\n",
              "      padding: 0 0 0 0;\n",
              "      width: 32px;\n",
              "    }\n",
              "\n",
              "    .colab-df-convert:hover {\n",
              "      background-color: #E2EBFA;\n",
              "      box-shadow: 0px 1px 2px rgba(60, 64, 67, 0.3), 0px 1px 3px 1px rgba(60, 64, 67, 0.15);\n",
              "      fill: #174EA6;\n",
              "    }\n",
              "\n",
              "    .colab-df-buttons div {\n",
              "      margin-bottom: 4px;\n",
              "    }\n",
              "\n",
              "    [theme=dark] .colab-df-convert {\n",
              "      background-color: #3B4455;\n",
              "      fill: #D2E3FC;\n",
              "    }\n",
              "\n",
              "    [theme=dark] .colab-df-convert:hover {\n",
              "      background-color: #434B5C;\n",
              "      box-shadow: 0px 1px 3px 1px rgba(0, 0, 0, 0.15);\n",
              "      filter: drop-shadow(0px 1px 2px rgba(0, 0, 0, 0.3));\n",
              "      fill: #FFFFFF;\n",
              "    }\n",
              "  </style>\n",
              "\n",
              "    <script>\n",
              "      const buttonEl =\n",
              "        document.querySelector('#df-89993dde-85f9-49ce-8c64-89fb2c2c6db1 button.colab-df-convert');\n",
              "      buttonEl.style.display =\n",
              "        google.colab.kernel.accessAllowed ? 'block' : 'none';\n",
              "\n",
              "      async function convertToInteractive(key) {\n",
              "        const element = document.querySelector('#df-89993dde-85f9-49ce-8c64-89fb2c2c6db1');\n",
              "        const dataTable =\n",
              "          await google.colab.kernel.invokeFunction('convertToInteractive',\n",
              "                                                    [key], {});\n",
              "        if (!dataTable) return;\n",
              "\n",
              "        const docLinkHtml = 'Like what you see? Visit the ' +\n",
              "          '<a target=\"_blank\" href=https://colab.research.google.com/notebooks/data_table.ipynb>data table notebook</a>'\n",
              "          + ' to learn more about interactive tables.';\n",
              "        element.innerHTML = '';\n",
              "        dataTable['output_type'] = 'display_data';\n",
              "        await google.colab.output.renderOutput(dataTable, element);\n",
              "        const docLink = document.createElement('div');\n",
              "        docLink.innerHTML = docLinkHtml;\n",
              "        element.appendChild(docLink);\n",
              "      }\n",
              "    </script>\n",
              "  </div>\n",
              "\n",
              "\n",
              "<div id=\"df-ed876434-1d8f-43e1-bcae-f1e23c078f6a\">\n",
              "  <button class=\"colab-df-quickchart\" onclick=\"quickchart('df-ed876434-1d8f-43e1-bcae-f1e23c078f6a')\"\n",
              "            title=\"Suggest charts.\"\n",
              "            style=\"display:none;\">\n",
              "\n",
              "<svg xmlns=\"http://www.w3.org/2000/svg\" height=\"24px\"viewBox=\"0 0 24 24\"\n",
              "     width=\"24px\">\n",
              "    <g>\n",
              "        <path d=\"M19 3H5c-1.1 0-2 .9-2 2v14c0 1.1.9 2 2 2h14c1.1 0 2-.9 2-2V5c0-1.1-.9-2-2-2zM9 17H7v-7h2v7zm4 0h-2V7h2v10zm4 0h-2v-4h2v4z\"/>\n",
              "    </g>\n",
              "</svg>\n",
              "  </button>\n",
              "\n",
              "<style>\n",
              "  .colab-df-quickchart {\n",
              "      --bg-color: #E8F0FE;\n",
              "      --fill-color: #1967D2;\n",
              "      --hover-bg-color: #E2EBFA;\n",
              "      --hover-fill-color: #174EA6;\n",
              "      --disabled-fill-color: #AAA;\n",
              "      --disabled-bg-color: #DDD;\n",
              "  }\n",
              "\n",
              "  [theme=dark] .colab-df-quickchart {\n",
              "      --bg-color: #3B4455;\n",
              "      --fill-color: #D2E3FC;\n",
              "      --hover-bg-color: #434B5C;\n",
              "      --hover-fill-color: #FFFFFF;\n",
              "      --disabled-bg-color: #3B4455;\n",
              "      --disabled-fill-color: #666;\n",
              "  }\n",
              "\n",
              "  .colab-df-quickchart {\n",
              "    background-color: var(--bg-color);\n",
              "    border: none;\n",
              "    border-radius: 50%;\n",
              "    cursor: pointer;\n",
              "    display: none;\n",
              "    fill: var(--fill-color);\n",
              "    height: 32px;\n",
              "    padding: 0;\n",
              "    width: 32px;\n",
              "  }\n",
              "\n",
              "  .colab-df-quickchart:hover {\n",
              "    background-color: var(--hover-bg-color);\n",
              "    box-shadow: 0 1px 2px rgba(60, 64, 67, 0.3), 0 1px 3px 1px rgba(60, 64, 67, 0.15);\n",
              "    fill: var(--button-hover-fill-color);\n",
              "  }\n",
              "\n",
              "  .colab-df-quickchart-complete:disabled,\n",
              "  .colab-df-quickchart-complete:disabled:hover {\n",
              "    background-color: var(--disabled-bg-color);\n",
              "    fill: var(--disabled-fill-color);\n",
              "    box-shadow: none;\n",
              "  }\n",
              "\n",
              "  .colab-df-spinner {\n",
              "    border: 2px solid var(--fill-color);\n",
              "    border-color: transparent;\n",
              "    border-bottom-color: var(--fill-color);\n",
              "    animation:\n",
              "      spin 1s steps(1) infinite;\n",
              "  }\n",
              "\n",
              "  @keyframes spin {\n",
              "    0% {\n",
              "      border-color: transparent;\n",
              "      border-bottom-color: var(--fill-color);\n",
              "      border-left-color: var(--fill-color);\n",
              "    }\n",
              "    20% {\n",
              "      border-color: transparent;\n",
              "      border-left-color: var(--fill-color);\n",
              "      border-top-color: var(--fill-color);\n",
              "    }\n",
              "    30% {\n",
              "      border-color: transparent;\n",
              "      border-left-color: var(--fill-color);\n",
              "      border-top-color: var(--fill-color);\n",
              "      border-right-color: var(--fill-color);\n",
              "    }\n",
              "    40% {\n",
              "      border-color: transparent;\n",
              "      border-right-color: var(--fill-color);\n",
              "      border-top-color: var(--fill-color);\n",
              "    }\n",
              "    60% {\n",
              "      border-color: transparent;\n",
              "      border-right-color: var(--fill-color);\n",
              "    }\n",
              "    80% {\n",
              "      border-color: transparent;\n",
              "      border-right-color: var(--fill-color);\n",
              "      border-bottom-color: var(--fill-color);\n",
              "    }\n",
              "    90% {\n",
              "      border-color: transparent;\n",
              "      border-bottom-color: var(--fill-color);\n",
              "    }\n",
              "  }\n",
              "</style>\n",
              "\n",
              "  <script>\n",
              "    async function quickchart(key) {\n",
              "      const quickchartButtonEl =\n",
              "        document.querySelector('#' + key + ' button');\n",
              "      quickchartButtonEl.disabled = true;  // To prevent multiple clicks.\n",
              "      quickchartButtonEl.classList.add('colab-df-spinner');\n",
              "      try {\n",
              "        const charts = await google.colab.kernel.invokeFunction(\n",
              "            'suggestCharts', [key], {});\n",
              "      } catch (error) {\n",
              "        console.error('Error during call to suggestCharts:', error);\n",
              "      }\n",
              "      quickchartButtonEl.classList.remove('colab-df-spinner');\n",
              "      quickchartButtonEl.classList.add('colab-df-quickchart-complete');\n",
              "    }\n",
              "    (() => {\n",
              "      let quickchartButtonEl =\n",
              "        document.querySelector('#df-ed876434-1d8f-43e1-bcae-f1e23c078f6a button');\n",
              "      quickchartButtonEl.style.display =\n",
              "        google.colab.kernel.accessAllowed ? 'block' : 'none';\n",
              "    })();\n",
              "  </script>\n",
              "</div>\n",
              "    </div>\n",
              "  </div>\n"
            ]
          },
          "metadata": {},
          "execution_count": 3
        }
      ],
      "source": [
        "dataset.head()"
      ]
    },
    {
      "cell_type": "code",
      "execution_count": null,
      "metadata": {
        "colab": {
          "base_uri": "https://localhost:8080/"
        },
        "id": "m81M8lnVx9Je",
        "outputId": "93f9d694-e965-433d-de16-0b800f9cc876"
      },
      "outputs": [
        {
          "output_type": "stream",
          "name": "stdout",
          "text": [
            "(53982, 2)\n"
          ]
        }
      ],
      "source": [
        "dataset['Gender'] = dataset['Gender'].replace({0:\"M\",1:\"F\"})\n",
        "print(dataset.shape)"
      ]
    },
    {
      "cell_type": "code",
      "execution_count": null,
      "metadata": {
        "id": "LQEMHp62yHam"
      },
      "outputs": [],
      "source": [
        "X =list( dataset['Name'])\n",
        "\n",
        "Y = list(dataset['Gender'])\n"
      ]
    },
    {
      "cell_type": "code",
      "execution_count": null,
      "metadata": {
        "id": "7Ep77i9ayNHG"
      },
      "outputs": [],
      "source": [
        "from sklearn.preprocessing import LabelEncoder\n",
        "\n",
        "encoder= LabelEncoder()\n",
        "\n",
        "Y = encoder.fit_transform(Y)"
      ]
    },
    {
      "cell_type": "code",
      "execution_count": null,
      "metadata": {
        "id": "43VQUIlpySOm"
      },
      "outputs": [],
      "source": [
        "from sklearn.feature_extraction.text import CountVectorizer\n",
        "\n",
        "cv=CountVectorizer(analyzer='char')\n",
        "\n",
        "X=cv.fit_transform(X).toarray()"
      ]
    },
    {
      "cell_type": "code",
      "execution_count": null,
      "metadata": {
        "id": "Eh26rlmsyb5O"
      },
      "outputs": [],
      "source": [
        "from sklearn.model_selection import train_test_split\n",
        "\n",
        "x_train, x_test, y_train, y_test = train_test_split(X, Y, test_size=0.33, random_state=42)"
      ]
    },
    {
      "cell_type": "code",
      "execution_count": null,
      "metadata": {
        "id": "rITEsE7cru5r"
      },
      "outputs": [],
      "source": [
        "from tensorflow.keras import models\n",
        "from tensorflow.keras.models import Model\n",
        "from tensorflow.keras.models import load_model\n",
        "from keras.layers import Embedding\n",
        "from tensorflow.keras.layers import Dense, Dropout, Flatten, Input, LeakyReLU\n",
        "from tensorflow.keras.layers import BatchNormalization, Activation, Conv2D\n",
        "from tensorflow.keras.models import Sequential\n",
        "from tensorflow.keras.layers import Dense, Flatten, MaxPooling2D, Dense, Dropout\n",
        "from tensorflow.keras.layers import LSTM"
      ]
    },
    {
      "cell_type": "code",
      "execution_count": null,
      "metadata": {
        "colab": {
          "base_uri": "https://localhost:8080/"
        },
        "id": "82liwPXLznOu",
        "outputId": "e23e5c91-2c88-4bc2-9b89-abfb6dc906b1"
      },
      "outputs": [
        {
          "output_type": "stream",
          "name": "stderr",
          "text": [
            "[nltk_data] Downloading package punkt to /root/nltk_data...\n",
            "[nltk_data]   Unzipping tokenizers/punkt.zip.\n"
          ]
        },
        {
          "output_type": "stream",
          "name": "stdout",
          "text": [
            "Total number of unique words in the dataset: 53925\n"
          ]
        }
      ],
      "source": [
        "import pandas as pd\n",
        "import nltk\n",
        "from nltk.tokenize import word_tokenize\n",
        "\n",
        "# Download NLTK resources if not already downloaded\n",
        "nltk.download('punkt')\n",
        "\n",
        "# Load your dataset (replace 'your_dataset.csv' with the path to your dataset)\n",
        "data = pd.read_csv('Gender_Data.csv')\n",
        "\n",
        "# Assuming your text data is in a column named 'text' (change to your column name)\n",
        "text_data = data['Name']\n",
        "\n",
        "# Create a set to store unique tokens\n",
        "unique_tokens = set()\n",
        "\n",
        "# Iterate over text data, tokenize, and collect unique tokens\n",
        "for text_entry in text_data:\n",
        "    tokens = word_tokenize(text_entry)\n",
        "    unique_tokens.update(tokens)\n",
        "\n",
        "# Count the unique tokens, which represents the vocabulary size\n",
        "voc_size = len(unique_tokens)\n",
        "\n",
        "print(\"Total number of unique words in the dataset:\", voc_size)\n"
      ]
    },
    {
      "cell_type": "code",
      "execution_count": null,
      "metadata": {
        "id": "2fGOuGLyuZB1"
      },
      "outputs": [],
      "source": [
        "max_words = 1000\n",
        "\n",
        "max_len = 26\n",
        "\n",
        "LSTM_model = Sequential()\n",
        "\n",
        "LSTM_model.add(Embedding(voc_size,40,input_length=26))\n",
        "\n",
        "LSTM_model.add(Dropout(0.3))\n",
        "\n",
        "LSTM_model.add(LSTM(100))\n",
        "\n",
        "LSTM_model.add(Dropout(0.3))\n",
        "\n",
        "LSTM_model.add(Dense(64,activation='relu'))\n",
        "\n",
        "LSTM_model.add(Dropout(0.3))\n",
        "\n",
        "LSTM_model.add(Dense(1,activation='sigmoid'))\n",
        "\n",
        "LSTM_model.compile(loss='binary_crossentropy',optimizer='adam',metrics=['accuracy'])"
      ]
    },
    {
      "cell_type": "code",
      "execution_count": null,
      "metadata": {
        "colab": {
          "base_uri": "https://localhost:8080/"
        },
        "id": "AHJ74xBrr4Jy",
        "outputId": "bc9cf1c8-65db-41bb-93e2-71ac38af5db0"
      },
      "outputs": [
        {
          "output_type": "stream",
          "name": "stdout",
          "text": [
            "Epoch 1/100\n",
            "566/566 [==============================] - 13s 7ms/step - loss: 0.6662 - accuracy: 0.5886\n",
            "Epoch 2/100\n",
            "566/566 [==============================] - 4s 6ms/step - loss: 0.6423 - accuracy: 0.6278\n",
            "Epoch 3/100\n",
            "566/566 [==============================] - 4s 7ms/step - loss: 0.6341 - accuracy: 0.6383\n",
            "Epoch 4/100\n",
            "566/566 [==============================] - 3s 6ms/step - loss: 0.6255 - accuracy: 0.6509\n",
            "Epoch 5/100\n",
            "566/566 [==============================] - 3s 6ms/step - loss: 0.6188 - accuracy: 0.6559\n",
            "Epoch 6/100\n",
            "566/566 [==============================] - 4s 6ms/step - loss: 0.6131 - accuracy: 0.6623\n",
            "Epoch 7/100\n",
            "566/566 [==============================] - 4s 7ms/step - loss: 0.6084 - accuracy: 0.6645\n",
            "Epoch 8/100\n",
            "566/566 [==============================] - 3s 6ms/step - loss: 0.6077 - accuracy: 0.6678\n",
            "Epoch 9/100\n",
            "566/566 [==============================] - 3s 6ms/step - loss: 0.6009 - accuracy: 0.6740\n",
            "Epoch 10/100\n",
            "566/566 [==============================] - 5s 9ms/step - loss: 0.5968 - accuracy: 0.6780\n",
            "Epoch 11/100\n",
            "566/566 [==============================] - 3s 6ms/step - loss: 0.5894 - accuracy: 0.6821\n",
            "Epoch 12/100\n",
            "566/566 [==============================] - 3s 6ms/step - loss: 0.5836 - accuracy: 0.6888\n",
            "Epoch 13/100\n",
            "566/566 [==============================] - 4s 7ms/step - loss: 0.5785 - accuracy: 0.6944\n",
            "Epoch 14/100\n",
            "566/566 [==============================] - 3s 6ms/step - loss: 0.5730 - accuracy: 0.6999\n",
            "Epoch 15/100\n",
            "566/566 [==============================] - 3s 6ms/step - loss: 0.5686 - accuracy: 0.6991\n",
            "Epoch 16/100\n",
            "566/566 [==============================] - 4s 7ms/step - loss: 0.5621 - accuracy: 0.7057\n",
            "Epoch 17/100\n",
            "566/566 [==============================] - 4s 7ms/step - loss: 0.5585 - accuracy: 0.7112\n",
            "Epoch 18/100\n",
            "566/566 [==============================] - 3s 6ms/step - loss: 0.5558 - accuracy: 0.7125\n",
            "Epoch 19/100\n",
            "566/566 [==============================] - 3s 6ms/step - loss: 0.5498 - accuracy: 0.7187\n",
            "Epoch 20/100\n",
            "566/566 [==============================] - 4s 7ms/step - loss: 0.5479 - accuracy: 0.7204\n",
            "Epoch 21/100\n",
            "566/566 [==============================] - 3s 6ms/step - loss: 0.5415 - accuracy: 0.7242\n",
            "Epoch 22/100\n",
            "566/566 [==============================] - 4s 6ms/step - loss: 0.5389 - accuracy: 0.7286\n",
            "Epoch 23/100\n",
            "566/566 [==============================] - 4s 7ms/step - loss: 0.5335 - accuracy: 0.7314\n",
            "Epoch 24/100\n",
            "566/566 [==============================] - 3s 6ms/step - loss: 0.5291 - accuracy: 0.7368\n",
            "Epoch 25/100\n",
            "566/566 [==============================] - 3s 6ms/step - loss: 0.5251 - accuracy: 0.7392\n",
            "Epoch 26/100\n",
            "566/566 [==============================] - 3s 6ms/step - loss: 0.5230 - accuracy: 0.7400\n",
            "Epoch 27/100\n",
            "566/566 [==============================] - 4s 8ms/step - loss: 0.5185 - accuracy: 0.7440\n",
            "Epoch 28/100\n",
            "566/566 [==============================] - 4s 6ms/step - loss: 0.5154 - accuracy: 0.7458\n",
            "Epoch 29/100\n",
            "566/566 [==============================] - 4s 6ms/step - loss: 0.5117 - accuracy: 0.7486\n",
            "Epoch 30/100\n",
            "566/566 [==============================] - 4s 8ms/step - loss: 0.5092 - accuracy: 0.7521\n",
            "Epoch 31/100\n",
            "566/566 [==============================] - 4s 7ms/step - loss: 0.5041 - accuracy: 0.7549\n",
            "Epoch 32/100\n",
            "566/566 [==============================] - 4s 7ms/step - loss: 0.5006 - accuracy: 0.7559\n",
            "Epoch 33/100\n",
            "566/566 [==============================] - 4s 7ms/step - loss: 0.4998 - accuracy: 0.7568\n",
            "Epoch 34/100\n",
            "566/566 [==============================] - 3s 6ms/step - loss: 0.4968 - accuracy: 0.7593\n",
            "Epoch 35/100\n",
            "566/566 [==============================] - 3s 6ms/step - loss: 0.4944 - accuracy: 0.7605\n",
            "Epoch 36/100\n",
            "566/566 [==============================] - 3s 6ms/step - loss: 0.4873 - accuracy: 0.7640\n",
            "Epoch 37/100\n",
            "566/566 [==============================] - 4s 7ms/step - loss: 0.4864 - accuracy: 0.7659\n",
            "Epoch 38/100\n",
            "566/566 [==============================] - 3s 6ms/step - loss: 0.4825 - accuracy: 0.7697\n",
            "Epoch 39/100\n",
            "566/566 [==============================] - 3s 6ms/step - loss: 0.4797 - accuracy: 0.7668\n",
            "Epoch 40/100\n",
            "566/566 [==============================] - 4s 7ms/step - loss: 0.4770 - accuracy: 0.7721\n",
            "Epoch 41/100\n",
            "566/566 [==============================] - 3s 6ms/step - loss: 0.4720 - accuracy: 0.7743\n",
            "Epoch 42/100\n",
            "566/566 [==============================] - 3s 6ms/step - loss: 0.4696 - accuracy: 0.7719\n",
            "Epoch 43/100\n",
            "566/566 [==============================] - 3s 6ms/step - loss: 0.4668 - accuracy: 0.7765\n",
            "Epoch 44/100\n",
            "566/566 [==============================] - 4s 7ms/step - loss: 0.4613 - accuracy: 0.7796\n",
            "Epoch 45/100\n",
            "566/566 [==============================] - 3s 6ms/step - loss: 0.4578 - accuracy: 0.7805\n",
            "Epoch 46/100\n",
            "566/566 [==============================] - 3s 6ms/step - loss: 0.4540 - accuracy: 0.7825\n",
            "Epoch 47/100\n",
            "566/566 [==============================] - 4s 7ms/step - loss: 0.4505 - accuracy: 0.7868\n",
            "Epoch 48/100\n",
            "566/566 [==============================] - 3s 6ms/step - loss: 0.4457 - accuracy: 0.7879\n",
            "Epoch 49/100\n",
            "566/566 [==============================] - 3s 6ms/step - loss: 0.4433 - accuracy: 0.7888\n",
            "Epoch 50/100\n",
            "566/566 [==============================] - 3s 6ms/step - loss: 0.4368 - accuracy: 0.7922\n",
            "Epoch 51/100\n",
            "566/566 [==============================] - 4s 7ms/step - loss: 0.4368 - accuracy: 0.7926\n",
            "Epoch 52/100\n",
            "566/566 [==============================] - 3s 6ms/step - loss: 0.4304 - accuracy: 0.7958\n",
            "Epoch 53/100\n",
            "566/566 [==============================] - 3s 6ms/step - loss: 0.4280 - accuracy: 0.7973\n",
            "Epoch 54/100\n",
            "566/566 [==============================] - 4s 7ms/step - loss: 0.4268 - accuracy: 0.7976\n",
            "Epoch 55/100\n",
            "566/566 [==============================] - 3s 6ms/step - loss: 0.4204 - accuracy: 0.8008\n",
            "Epoch 56/100\n",
            "566/566 [==============================] - 3s 6ms/step - loss: 0.4186 - accuracy: 0.8023\n",
            "Epoch 57/100\n",
            "566/566 [==============================] - 4s 6ms/step - loss: 0.4142 - accuracy: 0.8032\n",
            "Epoch 58/100\n",
            "566/566 [==============================] - 4s 7ms/step - loss: 0.4096 - accuracy: 0.8061\n",
            "Epoch 59/100\n",
            "566/566 [==============================] - 3s 6ms/step - loss: 0.4097 - accuracy: 0.8053\n",
            "Epoch 60/100\n",
            "566/566 [==============================] - 3s 6ms/step - loss: 0.4042 - accuracy: 0.8079\n",
            "Epoch 61/100\n",
            "566/566 [==============================] - 4s 7ms/step - loss: 0.4015 - accuracy: 0.8068\n",
            "Epoch 62/100\n",
            "566/566 [==============================] - 3s 6ms/step - loss: 0.3998 - accuracy: 0.8117\n",
            "Epoch 63/100\n",
            "566/566 [==============================] - 3s 6ms/step - loss: 0.3962 - accuracy: 0.8129\n",
            "Epoch 64/100\n",
            "566/566 [==============================] - 4s 7ms/step - loss: 0.3932 - accuracy: 0.8133\n",
            "Epoch 65/100\n",
            "566/566 [==============================] - 4s 6ms/step - loss: 0.3903 - accuracy: 0.8149\n",
            "Epoch 66/100\n",
            "566/566 [==============================] - 3s 6ms/step - loss: 0.3835 - accuracy: 0.8179\n",
            "Epoch 67/100\n",
            "566/566 [==============================] - 3s 6ms/step - loss: 0.3822 - accuracy: 0.8192\n",
            "Epoch 68/100\n",
            "566/566 [==============================] - 4s 7ms/step - loss: 0.3818 - accuracy: 0.8184\n",
            "Epoch 69/100\n",
            "566/566 [==============================] - 3s 6ms/step - loss: 0.3770 - accuracy: 0.8202\n",
            "Epoch 70/100\n",
            "566/566 [==============================] - 3s 6ms/step - loss: 0.3746 - accuracy: 0.8217\n",
            "Epoch 71/100\n",
            "566/566 [==============================] - 4s 7ms/step - loss: 0.3730 - accuracy: 0.8209\n",
            "Epoch 72/100\n",
            "566/566 [==============================] - 3s 6ms/step - loss: 0.3660 - accuracy: 0.8265\n",
            "Epoch 73/100\n",
            "566/566 [==============================] - 3s 6ms/step - loss: 0.3659 - accuracy: 0.8268\n",
            "Epoch 74/100\n",
            "566/566 [==============================] - 3s 6ms/step - loss: 0.3647 - accuracy: 0.8272\n",
            "Epoch 75/100\n",
            "566/566 [==============================] - 4s 7ms/step - loss: 0.3594 - accuracy: 0.8292\n",
            "Epoch 76/100\n",
            "566/566 [==============================] - 3s 6ms/step - loss: 0.3581 - accuracy: 0.8299\n",
            "Epoch 77/100\n",
            "566/566 [==============================] - 3s 6ms/step - loss: 0.3598 - accuracy: 0.8283\n",
            "Epoch 78/100\n",
            "566/566 [==============================] - 4s 7ms/step - loss: 0.3492 - accuracy: 0.8328\n",
            "Epoch 79/100\n",
            "566/566 [==============================] - 3s 6ms/step - loss: 0.3482 - accuracy: 0.8348\n",
            "Epoch 80/100\n",
            "566/566 [==============================] - 3s 6ms/step - loss: 0.3476 - accuracy: 0.8353\n",
            "Epoch 81/100\n",
            "566/566 [==============================] - 4s 6ms/step - loss: 0.3449 - accuracy: 0.8373\n",
            "Epoch 82/100\n",
            "566/566 [==============================] - 4s 7ms/step - loss: 0.3430 - accuracy: 0.8371\n",
            "Epoch 83/100\n",
            "566/566 [==============================] - 3s 6ms/step - loss: 0.3412 - accuracy: 0.8377\n",
            "Epoch 84/100\n",
            "566/566 [==============================] - 3s 6ms/step - loss: 0.3373 - accuracy: 0.8402\n",
            "Epoch 85/100\n",
            "566/566 [==============================] - 4s 7ms/step - loss: 0.3366 - accuracy: 0.8398\n",
            "Epoch 86/100\n",
            "566/566 [==============================] - 3s 6ms/step - loss: 0.3347 - accuracy: 0.8404\n",
            "Epoch 87/100\n",
            "566/566 [==============================] - 3s 6ms/step - loss: 0.3326 - accuracy: 0.8433\n",
            "Epoch 88/100\n",
            "566/566 [==============================] - 4s 6ms/step - loss: 0.3262 - accuracy: 0.8435\n",
            "Epoch 89/100\n",
            "566/566 [==============================] - 4s 7ms/step - loss: 0.3371 - accuracy: 0.8415\n",
            "Epoch 90/100\n",
            "566/566 [==============================] - 3s 6ms/step - loss: 0.3300 - accuracy: 0.8431\n",
            "Epoch 91/100\n",
            "566/566 [==============================] - 3s 6ms/step - loss: 0.3230 - accuracy: 0.8458\n",
            "Epoch 92/100\n",
            "566/566 [==============================] - 4s 7ms/step - loss: 0.3167 - accuracy: 0.8476\n",
            "Epoch 93/100\n",
            "566/566 [==============================] - 3s 6ms/step - loss: 0.3175 - accuracy: 0.8492\n",
            "Epoch 94/100\n",
            "566/566 [==============================] - 3s 6ms/step - loss: 0.3215 - accuracy: 0.8473\n",
            "Epoch 95/100\n",
            "566/566 [==============================] - 4s 7ms/step - loss: 0.3177 - accuracy: 0.8470\n",
            "Epoch 96/100\n",
            "566/566 [==============================] - 4s 6ms/step - loss: 0.3188 - accuracy: 0.8482\n",
            "Epoch 97/100\n",
            "566/566 [==============================] - 3s 6ms/step - loss: 0.3145 - accuracy: 0.8530\n",
            "Epoch 98/100\n",
            "566/566 [==============================] - 3s 6ms/step - loss: 0.3111 - accuracy: 0.8514\n",
            "Epoch 99/100\n",
            "566/566 [==============================] - 4s 7ms/step - loss: 0.3141 - accuracy: 0.8503\n",
            "Epoch 100/100\n",
            "566/566 [==============================] - 3s 6ms/step - loss: 0.3044 - accuracy: 0.8563\n"
          ]
        },
        {
          "output_type": "execute_result",
          "data": {
            "text/plain": [
              "<keras.src.callbacks.History at 0x7fa248101de0>"
            ]
          },
          "metadata": {},
          "execution_count": 12
        }
      ],
      "source": [
        "LSTM_model.fit(x_train,y_train,epochs=100,batch_size=64)"
      ]
    },
    {
      "cell_type": "code",
      "execution_count": null,
      "metadata": {
        "id": "RC4UFE9yz0Oj"
      },
      "outputs": [],
      "source": [
        "def predict(name):\n",
        "    name_samplevector = cv.transform([name]).toarray()\n",
        "    prediction = LSTM_model.predict([name_samplevector])\n",
        "\n",
        "    if prediction >=0.5:\n",
        "\n",
        "        out = 'Male ♂'\n",
        "\n",
        "    else:\n",
        "        out = 'Female ♀'\n",
        "    print(name+' is a '+ out)\n",
        "\n"
      ]
    },
    {
      "cell_type": "code",
      "execution_count": null,
      "metadata": {
        "colab": {
          "base_uri": "https://localhost:8080/"
        },
        "id": "jjNzJG6gE5kJ",
        "outputId": "2328d29a-c26e-4075-cf2d-8fe3f306e867"
      },
      "outputs": [
        {
          "output_type": "stream",
          "name": "stdout",
          "text": [
            "1/1 [==============================] - 0s 379ms/step\n",
            "divya is a Female ♀\n"
          ]
        }
      ],
      "source": [
        "predict('divya')\n",
        "\n"
      ]
    },
    {
      "cell_type": "code",
      "execution_count": null,
      "metadata": {
        "colab": {
          "base_uri": "https://localhost:8080/"
        },
        "id": "V9msh6nwFh3G",
        "outputId": "88512158-3025-4fed-d378-b6e996cee503"
      },
      "outputs": [
        {
          "output_type": "stream",
          "name": "stderr",
          "text": [
            "/usr/local/lib/python3.10/dist-packages/keras/src/engine/training.py:3079: UserWarning: You are saving your model as an HDF5 file via `model.save()`. This file format is considered legacy. We recommend using instead the native Keras format, e.g. `model.save('my_model.keras')`.\n",
            "  saving_api.save_model(\n"
          ]
        }
      ],
      "source": [
        "LSTM_model.save('model.h5')"
      ]
    }
  ],
  "metadata": {
    "colab": {
      "provenance": [],
      "gpuType": "T4",
      "include_colab_link": true
    },
    "kernelspec": {
      "display_name": "Python 3",
      "name": "python3"
    },
    "language_info": {
      "name": "python"
    },
    "accelerator": "GPU"
  },
  "nbformat": 4,
  "nbformat_minor": 0
}